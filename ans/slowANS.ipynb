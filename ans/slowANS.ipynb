{
  "nbformat": 4,
  "nbformat_minor": 0,
  "metadata": {
    "colab": {
      "name": "slowANS.ipynb",
      "provenance": []
    },
    "kernelspec": {
      "name": "python3",
      "display_name": "Python 3"
    },
    "language_info": {
      "name": "python"
    }
  },
  "cells": [
    {
      "cell_type": "code",
      "execution_count": 1,
      "metadata": {
        "id": "q_B_KJag6LgO"
      },
      "outputs": [],
      "source": [
        "import random\n",
        "import numpy as np\n",
        "\n",
        "\n",
        "def quantize_pmf(pmf, precision):\n",
        "     n = 1 << precision\n",
        "     assert n > 2 * len(pmf)\n",
        "     qt_pmf = np.zeros(pmf.shape, dtype=np.long)\n",
        "     \n",
        "     sum = 0 \n",
        "     for i in range(len(pmf)):\n",
        "         val = int(np.around(pmf[i] * n))\n",
        "         if val == 0:\n",
        "             val = val + 1\n",
        "         qt_pmf[i] = val\n",
        "         sum += val\n",
        "     \n",
        "     diff = n - sum\n",
        "     \n",
        "     if diff < 0:\n",
        "         while diff != 0:\n",
        "             for i in range(len(pmf)):\n",
        "                 if qt_pmf[i] != 1:\n",
        "                     qt_pmf[i] = qt_pmf[i] - 1\n",
        "                     diff += 1\n",
        "                 if diff == 0:\n",
        "                     break\n",
        "    \n",
        "     elif diff > 0:\n",
        "         while diff != 0:\n",
        "             for i in range(len(pmf)):\n",
        "                 if qt_pmf[i] != 1:\n",
        "                     qt_pmf[i] = qt_pmf[i] + 1\n",
        "                     diff -= 1\n",
        "                 if diff == 0:\n",
        "                     break\n",
        "\n",
        "     return qt_pmf\n",
        "\n",
        "     \n",
        "class UniformCoder(object):\n",
        "    def __init__(self, code=0):\n",
        "        self.code = code\n",
        "\n",
        "    def push(self, sym, base):\n",
        "        assert base > sym\n",
        "        self.code = self.code * base + sym\n",
        "\n",
        "    def pop(self, base):\n",
        "        sym = self.code % base\n",
        "        self.code = self.code // base\n",
        "        return sym\n",
        "\n",
        "\n",
        "class SlowANS(object):\n",
        "    def __init__(self, code):\n",
        "        self.stack = UniformCoder(code)\n",
        "\n",
        "    def push(self, sym, freqs):\n",
        "        assert sym < len(freqs)\n",
        "        n = sum(freqs)\n",
        "        cdfs = freqs.cumsum()\n",
        "        offset = 0 if sym == 0 else cdfs[sym - 1]\n",
        "        sym_range = freqs[sym]\n",
        "        z = offset + random.randint(0, sym_range - 1)\n",
        "        self.stack.push(z, base=n)\n",
        "\n",
        "    def pop(self, freqs):\n",
        "        n = sum(freqs)\n",
        "        cdfs = freqs.cumsum()\n",
        "        z = self.stack.pop(base=n)\n",
        "        out = np.searchsorted(cdfs, z, 'right')\n",
        "        return out\n"
      ]
    },
    {
      "cell_type": "code",
      "source": [
        "def randpmf(size):\n",
        "    pmf = np.abs(np.random.randn(size))\n",
        "    pmf = pmf / pmf.sum()\n",
        "    return pmf\n",
        "\n",
        "\n",
        "coder = SlowANS(0)\n",
        "\n",
        "msg = [3, 6, 1 ,4, 7]\n",
        "\n",
        "precisions = [4, 12, 16, 14, 15] # any precisions\n",
        "\n",
        "# generate random pmfs for each symbols\n",
        "freqs = [quantize_pmf(randpmf(5), precision=4),\n",
        "         quantize_pmf(randpmf(15), precision=8),\n",
        "         quantize_pmf(randpmf(100), precision=15),\n",
        "         quantize_pmf(randpmf(64), precision=10),\n",
        "         quantize_pmf(randpmf(17), precision=7)]\n",
        "\n",
        "\n",
        "for i in range(len(msg)):\n",
        "    coder.push(msg[i], freqs[i])\n",
        "\n",
        "\n",
        "dec = []\n",
        "for i in reversed(range(len(msg))):\n",
        "    dec.append(coder.pop(freqs[i]))\n",
        "\n",
        "dec.reverse()\n",
        "print(dec)"
      ],
      "metadata": {
        "colab": {
          "base_uri": "https://localhost:8080/"
        },
        "id": "n0Gu5KOSWkEU",
        "outputId": "e4cb7fd9-501e-4572-fcef-63b8ab46e890"
      },
      "execution_count": 2,
      "outputs": [
        {
          "output_type": "stream",
          "name": "stdout",
          "text": [
            "[3, 6, 1, 4, 7]\n"
          ]
        }
      ]
    }
  ]
}