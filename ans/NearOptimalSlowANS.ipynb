{
  "nbformat": 4,
  "nbformat_minor": 0,
  "metadata": {
    "colab": {
      "name": "NearOptimalSlowANS.ipynb",
      "provenance": []
    },
    "kernelspec": {
      "name": "python3",
      "display_name": "Python 3"
    },
    "language_info": {
      "name": "python"
    }
  },
  "cells": [
    {
      "cell_type": "code",
      "execution_count": 1,
      "metadata": {
        "id": "q_B_KJag6LgO"
      },
      "outputs": [],
      "source": [
        "import random\n",
        "import numpy as np\n",
        "\n",
        "\n",
        "def quantize_pmf(pmf, precision):\n",
        "     n = 1 << precision\n",
        "     assert n > 2 * len(pmf)\n",
        "     qt_pmf = np.zeros(pmf.shape, dtype=np.long)\n",
        "     \n",
        "     sum = 0 \n",
        "     for i in range(len(pmf)):\n",
        "         val = int(np.around(pmf[i] * n))\n",
        "         if val == 0:\n",
        "             val = val + 1\n",
        "         qt_pmf[i] = val\n",
        "         sum += val\n",
        "     \n",
        "     diff = n - sum\n",
        "     \n",
        "     if diff < 0:\n",
        "         while diff != 0:\n",
        "             for i in range(len(pmf)):\n",
        "                 if qt_pmf[i] != 1:\n",
        "                     qt_pmf[i] = qt_pmf[i] - 1\n",
        "                     diff += 1\n",
        "                 if diff == 0:\n",
        "                     break\n",
        "    \n",
        "     elif diff > 0:\n",
        "         while diff != 0:\n",
        "             for i in range(len(pmf)):\n",
        "                 if qt_pmf[i] != 1:\n",
        "                     qt_pmf[i] = qt_pmf[i] + 1\n",
        "                     diff -= 1\n",
        "                 if diff == 0:\n",
        "                     break\n",
        "\n",
        "     return qt_pmf\n",
        "\n",
        "\n",
        "class UniformCoder(object):\n",
        "    def __init__(self, code=0):\n",
        "        self.code = code\n",
        "\n",
        "    def push(self, sym, base):\n",
        "        assert base > sym\n",
        "        self.code = self.code * base + sym\n",
        "\n",
        "    def pop(self, base):\n",
        "        sym = self.code % base\n",
        "        self.code = self.code // base\n",
        "        return sym\n",
        "\n",
        "\n",
        "class SlowANS(object):\n",
        "    def __init__(self, code):\n",
        "        self.stack = UniformCoder(code)\n",
        "\n",
        "    def push(self, sym, freqs):\n",
        "        assert sym < len(freqs)\n",
        "        n = sum(freqs)\n",
        "        cdfs = freqs.cumsum()\n",
        "        offset = 0 if sym == 0 else cdfs[sym - 1]\n",
        "        sym_range = freqs[sym]\n",
        "        z = offset + random.randint(0, sym_range - 1)\n",
        "        self.stack.push(z, base=n)\n",
        "\n",
        "    def pop(self, freqs):\n",
        "        n = sum(freqs)\n",
        "        cdfs = freqs.cumsum()\n",
        "        z = self.stack.pop(base=n)\n",
        "        out = np.searchsorted(cdfs, z, 'right')\n",
        "        return out\n",
        "\n",
        "\n",
        "class NearOptimalSlowANS(object):\n",
        "    def __init__(self, code):\n",
        "        self.stack = UniformCoder(code)\n",
        "\n",
        "    def push(self, sym, freqs):\n",
        "        assert sym < len(freqs)\n",
        "        n = sum(freqs)\n",
        "        cdfs = freqs.cumsum()\n",
        "        offset = 0 if sym == 0 else cdfs[sym - 1]\n",
        "\n",
        "\n",
        "        z = self.stack.pop(base=freqs[sym]) + offset\n",
        "            \n",
        "        self.stack.push(z, base=n)\n",
        "\n",
        "    def pop(self, freqs):\n",
        "        n = sum(freqs)\n",
        "        cdfs = freqs.cumsum()\n",
        "        z = self.stack.pop(base=n)\n",
        "        sym = np.searchsorted(cdfs, z, 'right')\n",
        "        offset = 0 if sym == 0 else cdfs[sym - 1]\n",
        "        self.stack.push(z - offset, base=freqs[sym])\n",
        "        return sym\n"
      ]
    },
    {
      "cell_type": "code",
      "source": [
        "def randpmf(size):\n",
        "    pmf = np.abs(np.random.randn(size))\n",
        "    pmf = pmf / pmf.sum()\n",
        "    return pmf\n",
        "\n",
        "\n",
        "msg = [0, 0, 1 ,4, 7]\n",
        "precisions = [4, 12, 16, 14, 15] # any precisions\n",
        "\n",
        "# generate random pmfs for each symbols\n",
        "freqs = [quantize_pmf(randpmf(5), precision=4),\n",
        "         quantize_pmf(randpmf(15), precision=8),\n",
        "         quantize_pmf(randpmf(100), precision=15),\n",
        "         quantize_pmf(randpmf(64), precision=10),\n",
        "         quantize_pmf(randpmf(17), precision=7)]\n",
        "\n"
      ],
      "metadata": {
        "id": "n0Gu5KOSWkEU"
      },
      "execution_count": 2,
      "outputs": []
    },
    {
      "cell_type": "code",
      "source": [
        "coder = SlowANS(0)\n",
        "\n",
        "for i in range(len(msg)):\n",
        "    coder.push(msg[i], freqs[i])\n",
        "\n",
        "print('code: {}'.format(coder.stack.code))\n",
        "\n",
        "\n",
        "dec = []\n",
        "for i in reversed(range(len(msg))):\n",
        "    dec.append(coder.pop(freqs[i]))\n",
        "\n",
        "dec.reverse()\n",
        "print(dec)"
      ],
      "metadata": {
        "colab": {
          "base_uri": "https://localhost:8080/"
        },
        "id": "iRjSUYSnkqgX",
        "outputId": "c87b545e-24b5-4e09-cb0e-8d21ad8f36c9"
      },
      "execution_count": 3,
      "outputs": [
        {
          "output_type": "stream",
          "name": "stdout",
          "text": [
            "code: 2237730799279\n",
            "[0, 0, 1, 4, 7]\n"
          ]
        }
      ]
    },
    {
      "cell_type": "code",
      "source": [
        "init_bits = random.randint(0, len(freqs[0]) - 1)\n",
        "new_coder = NearOptimalSlowANS(init_bits)\n",
        "\n",
        "for i in range(len(msg)):\n",
        "    new_coder.push(msg[i], freqs[i])\n",
        "\n",
        "print('new code: {}'.format(new_coder.stack.code))\n",
        "\n",
        "\n",
        "dec = []\n",
        "for i in reversed(range(len(msg))):\n",
        "    dec.append(new_coder.pop(freqs[i]))\n",
        "\n",
        "dec.reverse()\n",
        "print(dec)"
      ],
      "metadata": {
        "colab": {
          "base_uri": "https://localhost:8080/"
        },
        "id": "nl2m9guFkul8",
        "outputId": "ae1b0c6e-d766-404b-a7ac-543d05505a5c"
      },
      "execution_count": 4,
      "outputs": [
        {
          "output_type": "stream",
          "name": "stdout",
          "text": [
            "new code: 1871790\n",
            "[0, 0, 1, 4, 7]\n"
          ]
        }
      ]
    }
  ]
}